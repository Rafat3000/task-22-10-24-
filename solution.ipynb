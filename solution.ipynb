{
 "cells": [
  {
   "cell_type": "markdown",
   "id": "a11aadc7-ca9c-422b-a843-7f9f3d2bde85",
   "metadata": {},
   "source": [
    "# Read Dataset :\n"
   ]
  },
  {
   "cell_type": "code",
   "execution_count": 1,
   "id": "071f6226-529c-4bc9-8783-16ad7a457426",
   "metadata": {},
   "outputs": [],
   "source": [
    "#Libraries\n",
    "import numpy as np\n",
    "import pandas as pd\n",
    "import matplotlib.pyplot as plt\n",
    "from sklearn.linear_model import LinearRegression\n",
    "from sklearn.model_selection import train_test_split\n",
    " "
   ]
  },
  {
   "cell_type": "code",
   "execution_count": 2,
   "id": "c2ca4944-cdcc-426b-9c7f-7ba3989a1939",
   "metadata": {},
   "outputs": [
    {
     "data": {
      "text/html": [
       "<div>\n",
       "<style scoped>\n",
       "    .dataframe tbody tr th:only-of-type {\n",
       "        vertical-align: middle;\n",
       "    }\n",
       "\n",
       "    .dataframe tbody tr th {\n",
       "        vertical-align: top;\n",
       "    }\n",
       "\n",
       "    .dataframe thead th {\n",
       "        text-align: right;\n",
       "    }\n",
       "</style>\n",
       "<table border=\"1\" class=\"dataframe\">\n",
       "  <thead>\n",
       "    <tr style=\"text-align: right;\">\n",
       "      <th></th>\n",
       "      <th>age</th>\n",
       "      <th>sex</th>\n",
       "      <th>bmi</th>\n",
       "      <th>children</th>\n",
       "      <th>smoker</th>\n",
       "      <th>region</th>\n",
       "      <th>charges</th>\n",
       "    </tr>\n",
       "  </thead>\n",
       "  <tbody>\n",
       "    <tr>\n",
       "      <th>0</th>\n",
       "      <td>19</td>\n",
       "      <td>female</td>\n",
       "      <td>27.900</td>\n",
       "      <td>0</td>\n",
       "      <td>yes</td>\n",
       "      <td>southwest</td>\n",
       "      <td>16884.92400</td>\n",
       "    </tr>\n",
       "    <tr>\n",
       "      <th>1</th>\n",
       "      <td>18</td>\n",
       "      <td>male</td>\n",
       "      <td>33.770</td>\n",
       "      <td>1</td>\n",
       "      <td>no</td>\n",
       "      <td>southeast</td>\n",
       "      <td>1725.55230</td>\n",
       "    </tr>\n",
       "    <tr>\n",
       "      <th>2</th>\n",
       "      <td>28</td>\n",
       "      <td>male</td>\n",
       "      <td>33.000</td>\n",
       "      <td>3</td>\n",
       "      <td>no</td>\n",
       "      <td>southeast</td>\n",
       "      <td>4449.46200</td>\n",
       "    </tr>\n",
       "    <tr>\n",
       "      <th>3</th>\n",
       "      <td>33</td>\n",
       "      <td>male</td>\n",
       "      <td>22.705</td>\n",
       "      <td>0</td>\n",
       "      <td>no</td>\n",
       "      <td>northwest</td>\n",
       "      <td>21984.47061</td>\n",
       "    </tr>\n",
       "    <tr>\n",
       "      <th>4</th>\n",
       "      <td>32</td>\n",
       "      <td>male</td>\n",
       "      <td>28.880</td>\n",
       "      <td>0</td>\n",
       "      <td>no</td>\n",
       "      <td>northwest</td>\n",
       "      <td>3866.85520</td>\n",
       "    </tr>\n",
       "  </tbody>\n",
       "</table>\n",
       "</div>"
      ],
      "text/plain": [
       "   age     sex     bmi  children smoker     region      charges\n",
       "0   19  female  27.900         0    yes  southwest  16884.92400\n",
       "1   18    male  33.770         1     no  southeast   1725.55230\n",
       "2   28    male  33.000         3     no  southeast   4449.46200\n",
       "3   33    male  22.705         0     no  northwest  21984.47061\n",
       "4   32    male  28.880         0     no  northwest   3866.85520"
      ]
     },
     "execution_count": 2,
     "metadata": {},
     "output_type": "execute_result"
    }
   ],
   "source": [
    "df=pd.read_csv('insurance.csv')\n",
    "df.head()"
   ]
  },
  {
   "cell_type": "code",
   "execution_count": 3,
   "id": "d0af934c-9de0-4e43-a486-1a3db3db9a70",
   "metadata": {},
   "outputs": [
    {
     "name": "stdout",
     "output_type": "stream",
     "text": [
      "<class 'pandas.core.frame.DataFrame'>\n",
      "RangeIndex: 1338 entries, 0 to 1337\n",
      "Data columns (total 7 columns):\n",
      " #   Column    Non-Null Count  Dtype  \n",
      "---  ------    --------------  -----  \n",
      " 0   age       1338 non-null   int64  \n",
      " 1   sex       1338 non-null   object \n",
      " 2   bmi       1335 non-null   float64\n",
      " 3   children  1338 non-null   int64  \n",
      " 4   smoker    1338 non-null   object \n",
      " 5   region    1338 non-null   object \n",
      " 6   charges   1338 non-null   float64\n",
      "dtypes: float64(2), int64(2), object(3)\n",
      "memory usage: 73.3+ KB\n"
     ]
    }
   ],
   "source": [
    "# Q1\n",
    "df.info()"
   ]
  },
  {
   "cell_type": "code",
   "execution_count": 4,
   "id": "8092fe8a-5044-4237-bb14-4cc7a80b6550",
   "metadata": {},
   "outputs": [
    {
     "data": {
      "text/plain": [
       "(1338, 7)"
      ]
     },
     "execution_count": 4,
     "metadata": {},
     "output_type": "execute_result"
    }
   ],
   "source": [
    "# Q1\n",
    "df.shape"
   ]
  },
  {
   "cell_type": "code",
   "execution_count": 5,
   "id": "55e0ac6e-1719-4467-8d32-1ad1477eb70c",
   "metadata": {},
   "outputs": [
    {
     "data": {
      "text/html": [
       "<div>\n",
       "<style scoped>\n",
       "    .dataframe tbody tr th:only-of-type {\n",
       "        vertical-align: middle;\n",
       "    }\n",
       "\n",
       "    .dataframe tbody tr th {\n",
       "        vertical-align: top;\n",
       "    }\n",
       "\n",
       "    .dataframe thead th {\n",
       "        text-align: right;\n",
       "    }\n",
       "</style>\n",
       "<table border=\"1\" class=\"dataframe\">\n",
       "  <thead>\n",
       "    <tr style=\"text-align: right;\">\n",
       "      <th></th>\n",
       "      <th>age</th>\n",
       "      <th>bmi</th>\n",
       "      <th>children</th>\n",
       "      <th>charges</th>\n",
       "    </tr>\n",
       "  </thead>\n",
       "  <tbody>\n",
       "    <tr>\n",
       "      <th>count</th>\n",
       "      <td>1338.000000</td>\n",
       "      <td>1335.000000</td>\n",
       "      <td>1338.000000</td>\n",
       "      <td>1338.000000</td>\n",
       "    </tr>\n",
       "    <tr>\n",
       "      <th>mean</th>\n",
       "      <td>39.207025</td>\n",
       "      <td>30.661423</td>\n",
       "      <td>1.094918</td>\n",
       "      <td>13270.422265</td>\n",
       "    </tr>\n",
       "    <tr>\n",
       "      <th>std</th>\n",
       "      <td>14.049960</td>\n",
       "      <td>6.101038</td>\n",
       "      <td>1.205493</td>\n",
       "      <td>12110.011237</td>\n",
       "    </tr>\n",
       "    <tr>\n",
       "      <th>min</th>\n",
       "      <td>18.000000</td>\n",
       "      <td>15.960000</td>\n",
       "      <td>0.000000</td>\n",
       "      <td>1121.873900</td>\n",
       "    </tr>\n",
       "    <tr>\n",
       "      <th>25%</th>\n",
       "      <td>27.000000</td>\n",
       "      <td>26.302500</td>\n",
       "      <td>0.000000</td>\n",
       "      <td>4740.287150</td>\n",
       "    </tr>\n",
       "    <tr>\n",
       "      <th>50%</th>\n",
       "      <td>39.000000</td>\n",
       "      <td>30.400000</td>\n",
       "      <td>1.000000</td>\n",
       "      <td>9382.033000</td>\n",
       "    </tr>\n",
       "    <tr>\n",
       "      <th>75%</th>\n",
       "      <td>51.000000</td>\n",
       "      <td>34.687500</td>\n",
       "      <td>2.000000</td>\n",
       "      <td>16639.912515</td>\n",
       "    </tr>\n",
       "    <tr>\n",
       "      <th>max</th>\n",
       "      <td>64.000000</td>\n",
       "      <td>53.130000</td>\n",
       "      <td>5.000000</td>\n",
       "      <td>63770.428010</td>\n",
       "    </tr>\n",
       "  </tbody>\n",
       "</table>\n",
       "</div>"
      ],
      "text/plain": [
       "               age          bmi     children       charges\n",
       "count  1338.000000  1335.000000  1338.000000   1338.000000\n",
       "mean     39.207025    30.661423     1.094918  13270.422265\n",
       "std      14.049960     6.101038     1.205493  12110.011237\n",
       "min      18.000000    15.960000     0.000000   1121.873900\n",
       "25%      27.000000    26.302500     0.000000   4740.287150\n",
       "50%      39.000000    30.400000     1.000000   9382.033000\n",
       "75%      51.000000    34.687500     2.000000  16639.912515\n",
       "max      64.000000    53.130000     5.000000  63770.428010"
      ]
     },
     "execution_count": 5,
     "metadata": {},
     "output_type": "execute_result"
    }
   ],
   "source": [
    "#Q1\n",
    "df.describe()\n"
   ]
  },
  {
   "cell_type": "code",
   "execution_count": 6,
   "id": "1ea70e68-ad8f-43c8-b865-f10904029125",
   "metadata": {},
   "outputs": [
    {
     "data": {
      "text/plain": [
       "smoker\n",
       "no     1064\n",
       "yes     274\n",
       "Name: count, dtype: int64"
      ]
     },
     "execution_count": 6,
     "metadata": {},
     "output_type": "execute_result"
    }
   ],
   "source": [
    "# Q2\n",
    "df['smoker'].value_counts()\n"
   ]
  },
  {
   "cell_type": "markdown",
   "id": "b007ecbd-12df-4166-8f4f-83a84386e493",
   "metadata": {},
   "source": [
    "-  Q3 data not balanced "
   ]
  },
  {
   "cell_type": "code",
   "execution_count": 7,
   "id": "a691df2a-a42f-4c99-8a06-fa9f306cf06a",
   "metadata": {},
   "outputs": [
    {
     "name": "stdout",
     "output_type": "stream",
     "text": [
      " total smokers: 274\n",
      "  total nun_smokers: 1064\n"
     ]
    }
   ],
   "source": [
    "#    check the data for smokers \n",
    "smokers = df[df['smoker'] == \"yes\"]\n",
    "\n",
    "# check the data for nun_smokers\n",
    "non_smokers = df[df['smoker'] == \"no\"]\n",
    "\n",
    "# count total in each\n",
    "num_smokers = len(smokers)\n",
    "num_non_smokers = len(non_smokers)\n",
    "\n",
    "print(f\" total smokers: {num_smokers}\")\n",
    "print(f\"  total nun_smokers: {num_non_smokers}\")\n"
   ]
  },
  {
   "cell_type": "code",
   "execution_count": 8,
   "id": "352ee0c6-21b4-4fdb-9873-4a71b981f3cd",
   "metadata": {},
   "outputs": [
    {
     "data": {
      "image/png": "[encoded data removed]",
      "text/plain": [
       "<Figure size 1000x1500 with 8 Axes>"
      ]
     },
     "metadata": {},
     "output_type": "display_data"
    }
   ],
   "source": [
    "numerical_features = ['charges', 'bmi', 'age', 'children']\n",
    "\n",
    "subplot_number = 421\n",
    "fig = plt.figure(figsize=(10,15))\n",
    "\n",
    "for f in numerical_features:\n",
    "\n",
    "  ax = fig.add_subplot(subplot_number)\n",
    "  subplot_number += 1\n",
    "  ax.hist(smokers[f])\n",
    "  ax.set_title('Distribution of ' + f + ' for smokers')\n",
    "\n",
    "  ax = fig.add_subplot(subplot_number)\n",
    "  subplot_number += 1\n",
    "  ax.hist(non_smokers[f])\n",
    "  ax.set_title('Distribution of '+ f + ' for non-smokers')"
   ]
  },
  {
   "cell_type": "markdown",
   "id": "2a4985f0-1674-47ff-bb28-8f6fbd5e2e77",
   "metadata": {},
   "source": [
    "# Q4\n",
    "- Distribution of fees for smokers is highest at 20,000, 40,000 and 35,000 to a lesser degree, and for non-smokers less than 5,000.\n",
    "- The BMI distribution of smokers is much lower than that of non-smokers, especially after the age of twenty years.\n",
    "- Most smokers are twenty years old, and most non-smokers are the same age. When comparing the two cases at the same age, we find that the percentage of non-smokers is much greater than that of smokers.\n",
    "- Most smokers and non-smokers do not have children, so it is not a matter of age."
   ]
  },
  {
   "cell_type": "code",
   "execution_count": 9,
   "id": "f0111c44-c969-4b20-8b35-2d27ae9416d0",
   "metadata": {},
   "outputs": [
    {
     "data": {
      "text/plain": [
       "sex\n",
       "male      676\n",
       "female    662\n",
       "Name: count, dtype: int64"
      ]
     },
     "execution_count": 9,
     "metadata": {},
     "output_type": "execute_result"
    }
   ],
   "source": [
    "\n",
    "df['sex'].value_counts()\n"
   ]
  },
  {
   "cell_type": "markdown",
   "id": "c8a6f54d-9de1-493a-b5df-50d2e60977f3",
   "metadata": {},
   "source": [
    "# Q5\n",
    "-  There is no difference in percentage between males and females."
   ]
  },
  {
   "cell_type": "markdown",
   "id": "d665f1e8-6e38-4f5c-9e47-77a16f357f73",
   "metadata": {},
   "source": [
    "# Q6"
   ]
  },
  {
   "cell_type": "code",
   "execution_count": 10,
   "id": "9356e6ef-8dd8-44b7-bf04-4a11b368df0c",
   "metadata": {},
   "outputs": [
    {
     "data": {
      "text/plain": [
       "age         0\n",
       "sex         0\n",
       "bmi         3\n",
       "children    0\n",
       "smoker      0\n",
       "region      0\n",
       "charges     0\n",
       "dtype: int64"
      ]
     },
     "execution_count": 10,
     "metadata": {},
     "output_type": "execute_result"
    }
   ],
   "source": [
    "df.isnull().sum()"
   ]
  },
  {
   "cell_type": "markdown",
   "id": "97bed608-4945-48ac-86f0-78a5145bfa8c",
   "metadata": {},
   "source": [
    "- yes there is 3 values null in bmi  "
   ]
  },
  {
   "cell_type": "code",
   "execution_count": 11,
   "id": "e976c83d-f825-4699-8097-b2fe85e87ea5",
   "metadata": {},
   "outputs": [],
   "source": [
    "df=df.dropna()"
   ]
  },
  {
   "cell_type": "markdown",
   "id": "93e3e3a7-d648-4a18-bd00-e404a4b5726c",
   "metadata": {},
   "source": [
    "# Q7"
   ]
  },
  {
   "cell_type": "code",
   "execution_count": 12,
   "id": "847776b2-3693-48a2-805f-55cef10b4b77",
   "metadata": {},
   "outputs": [
    {
     "name": "stderr",
     "output_type": "stream",
     "text": [
      "/var/folders/z5/hlw9vp8s5sncyq0k380c9gh40000gn/T/ipykernel_25396/916469756.py:2: FutureWarning: Downcasting behavior in `replace` is deprecated and will be removed in a future version. To retain the old behavior, explicitly call `result.infer_objects(copy=False)`. To opt-in to the future behavior, set `pd.set_option('future.no_silent_downcasting', True)`\n",
      "  df['sex'] = df['sex'].replace({'male': 0, 'female': 1})\n",
      "/var/folders/z5/hlw9vp8s5sncyq0k380c9gh40000gn/T/ipykernel_25396/916469756.py:5: FutureWarning: Downcasting behavior in `replace` is deprecated and will be removed in a future version. To retain the old behavior, explicitly call `result.infer_objects(copy=False)`. To opt-in to the future behavior, set `pd.set_option('future.no_silent_downcasting', True)`\n",
      "  df['smoker'] = df['smoker'].replace({'no': 0, 'yes': 1})\n"
     ]
    },
    {
     "data": {
      "text/html": [
       "<div>\n",
       "<style scoped>\n",
       "    .dataframe tbody tr th:only-of-type {\n",
       "        vertical-align: middle;\n",
       "    }\n",
       "\n",
       "    .dataframe tbody tr th {\n",
       "        vertical-align: top;\n",
       "    }\n",
       "\n",
       "    .dataframe thead th {\n",
       "        text-align: right;\n",
       "    }\n",
       "</style>\n",
       "<table border=\"1\" class=\"dataframe\">\n",
       "  <thead>\n",
       "    <tr style=\"text-align: right;\">\n",
       "      <th></th>\n",
       "      <th>age</th>\n",
       "      <th>sex</th>\n",
       "      <th>bmi</th>\n",
       "      <th>children</th>\n",
       "      <th>smoker</th>\n",
       "      <th>region</th>\n",
       "      <th>charges</th>\n",
       "    </tr>\n",
       "  </thead>\n",
       "  <tbody>\n",
       "    <tr>\n",
       "      <th>0</th>\n",
       "      <td>19</td>\n",
       "      <td>1</td>\n",
       "      <td>27.900</td>\n",
       "      <td>0</td>\n",
       "      <td>1</td>\n",
       "      <td>southwest</td>\n",
       "      <td>16884.92400</td>\n",
       "    </tr>\n",
       "    <tr>\n",
       "      <th>1</th>\n",
       "      <td>18</td>\n",
       "      <td>0</td>\n",
       "      <td>33.770</td>\n",
       "      <td>1</td>\n",
       "      <td>0</td>\n",
       "      <td>southeast</td>\n",
       "      <td>1725.55230</td>\n",
       "    </tr>\n",
       "    <tr>\n",
       "      <th>2</th>\n",
       "      <td>28</td>\n",
       "      <td>0</td>\n",
       "      <td>33.000</td>\n",
       "      <td>3</td>\n",
       "      <td>0</td>\n",
       "      <td>southeast</td>\n",
       "      <td>4449.46200</td>\n",
       "    </tr>\n",
       "    <tr>\n",
       "      <th>3</th>\n",
       "      <td>33</td>\n",
       "      <td>0</td>\n",
       "      <td>22.705</td>\n",
       "      <td>0</td>\n",
       "      <td>0</td>\n",
       "      <td>northwest</td>\n",
       "      <td>21984.47061</td>\n",
       "    </tr>\n",
       "    <tr>\n",
       "      <th>4</th>\n",
       "      <td>32</td>\n",
       "      <td>0</td>\n",
       "      <td>28.880</td>\n",
       "      <td>0</td>\n",
       "      <td>0</td>\n",
       "      <td>northwest</td>\n",
       "      <td>3866.85520</td>\n",
       "    </tr>\n",
       "  </tbody>\n",
       "</table>\n",
       "</div>"
      ],
      "text/plain": [
       "   age  sex     bmi  children  smoker     region      charges\n",
       "0   19    1  27.900         0       1  southwest  16884.92400\n",
       "1   18    0  33.770         1       0  southeast   1725.55230\n",
       "2   28    0  33.000         3       0  southeast   4449.46200\n",
       "3   33    0  22.705         0       0  northwest  21984.47061\n",
       "4   32    0  28.880         0       0  northwest   3866.85520"
      ]
     },
     "execution_count": 12,
     "metadata": {},
     "output_type": "execute_result"
    }
   ],
   "source": [
    "#  convert column \"sex\" to 0&1\n",
    "df['sex'] = df['sex'].replace({'male': 0, 'female': 1})\n",
    "\n",
    "#  convert column \"smoker\" to 0 & 1\n",
    "df['smoker'] = df['smoker'].replace({'no': 0, 'yes': 1})\n",
    "\n",
    "# check the head\n",
    "df.head()\n"
   ]
  },
  {
   "cell_type": "code",
   "execution_count": 13,
   "id": "3a57ab01-713f-4909-b66e-8f201ce50ff7",
   "metadata": {},
   "outputs": [
    {
     "name": "stdout",
     "output_type": "stream",
     "text": [
      "   age  sex     bmi  children  smoker     region      charges\n",
      "0   19    1  27.900         0       1  southwest  16884.92400\n",
      "1   18    0  33.770         1       0  southeast   1725.55230\n",
      "2   28    0  33.000         3       0  southeast   4449.46200\n",
      "3   33    0  22.705         0       0  northwest  21984.47061\n",
      "4   32    0  28.880         0       0  northwest   3866.85520\n"
     ]
    }
   ],
   "source": [
    "# using encoding \n",
    "from sklearn.preprocessing import LabelEncoder\n",
    "# LabelEncoder\n",
    "label_encoder = LabelEncoder()\n",
    "\n",
    "#  convert  \"sex\" columns \n",
    "df['sex'] = label_encoder.fit_transform(df['sex'])\n",
    "\n",
    "# convert \"smoker\" columns\n",
    "df['smoker'] = label_encoder.fit_transform(df['smoker'])\n",
    "\n",
    "# check \n",
    "print(df.head())"
   ]
  },
  {
   "cell_type": "code",
   "execution_count": 14,
   "id": "f0a0e0ac-f3dd-4ec3-9e35-baaefe5177f4",
   "metadata": {},
   "outputs": [
    {
     "name": "stdout",
     "output_type": "stream",
     "text": [
      "   age  sex     bmi  children  smoker  region      charges\n",
      "0   19    1  27.900         0       1       0  16884.92400\n",
      "1   18    0  33.770         1       0       1   1725.55230\n",
      "2   28    0  33.000         3       0       1   4449.46200\n",
      "3   33    0  22.705         0       0       2  21984.47061\n",
      "4   32    0  28.880         0       0       2   3866.85520\n"
     ]
    },
    {
     "name": "stderr",
     "output_type": "stream",
     "text": [
      "/var/folders/z5/hlw9vp8s5sncyq0k380c9gh40000gn/T/ipykernel_25396/798500941.py:4: FutureWarning: Downcasting behavior in `replace` is deprecated and will be removed in a future version. To retain the old behavior, explicitly call `result.infer_objects(copy=False)`. To opt-in to the future behavior, set `pd.set_option('future.no_silent_downcasting', True)`\n",
      "  df['region'] = df['region'].replace(regions)\n"
     ]
    }
   ],
   "source": [
    " \n",
    "regions = {'southwest': 0, 'southeast': 1, 'northwest': 2, 'northeast': 3}\n",
    "\n",
    "#   replace \"region\" in regions  \n",
    "df['region'] = df['region'].replace(regions)\n",
    "\n",
    "# check \n",
    "print(df.head())"
   ]
  },
  {
   "cell_type": "markdown",
   "id": "426dd126-3f14-411a-bf4b-c389bd3093d2",
   "metadata": {},
   "source": [
    "# Q8"
   ]
  },
  {
   "cell_type": "code",
   "execution_count": 15,
   "id": "9ba58521-23c0-485b-89d4-7cb69ff05068",
   "metadata": {},
   "outputs": [
    {
     "data": {
      "text/plain": [
       "age            64.00000\n",
       "sex             1.00000\n",
       "bmi            53.13000\n",
       "children        5.00000\n",
       "smoker          1.00000\n",
       "region          3.00000\n",
       "charges     63770.42801\n",
       "dtype: float64"
      ]
     },
     "execution_count": 15,
     "metadata": {},
     "output_type": "execute_result"
    }
   ],
   "source": [
    "df.max()"
   ]
  },
  {
   "cell_type": "code",
   "execution_count": 16,
   "id": "31ba2345-d9bd-4e7b-addb-ccfff9850493",
   "metadata": {},
   "outputs": [
    {
     "data": {
      "text/html": [
       "<div>\n",
       "<style scoped>\n",
       "    .dataframe tbody tr th:only-of-type {\n",
       "        vertical-align: middle;\n",
       "    }\n",
       "\n",
       "    .dataframe tbody tr th {\n",
       "        vertical-align: top;\n",
       "    }\n",
       "\n",
       "    .dataframe thead th {\n",
       "        text-align: right;\n",
       "    }\n",
       "</style>\n",
       "<table border=\"1\" class=\"dataframe\">\n",
       "  <thead>\n",
       "    <tr style=\"text-align: right;\">\n",
       "      <th></th>\n",
       "      <th>age</th>\n",
       "      <th>sex</th>\n",
       "      <th>bmi</th>\n",
       "      <th>children</th>\n",
       "      <th>smoker</th>\n",
       "      <th>region</th>\n",
       "      <th>charges</th>\n",
       "    </tr>\n",
       "  </thead>\n",
       "  <tbody>\n",
       "    <tr>\n",
       "      <th>0</th>\n",
       "      <td>0.296875</td>\n",
       "      <td>1.0</td>\n",
       "      <td>0.525127</td>\n",
       "      <td>0.0</td>\n",
       "      <td>1.0</td>\n",
       "      <td>0.000000</td>\n",
       "      <td>0.264777</td>\n",
       "    </tr>\n",
       "    <tr>\n",
       "      <th>1</th>\n",
       "      <td>0.281250</td>\n",
       "      <td>0.0</td>\n",
       "      <td>0.635611</td>\n",
       "      <td>0.2</td>\n",
       "      <td>0.0</td>\n",
       "      <td>0.333333</td>\n",
       "      <td>0.027059</td>\n",
       "    </tr>\n",
       "    <tr>\n",
       "      <th>2</th>\n",
       "      <td>0.437500</td>\n",
       "      <td>0.0</td>\n",
       "      <td>0.621118</td>\n",
       "      <td>0.6</td>\n",
       "      <td>0.0</td>\n",
       "      <td>0.333333</td>\n",
       "      <td>0.069773</td>\n",
       "    </tr>\n",
       "    <tr>\n",
       "      <th>3</th>\n",
       "      <td>0.515625</td>\n",
       "      <td>0.0</td>\n",
       "      <td>0.427348</td>\n",
       "      <td>0.0</td>\n",
       "      <td>0.0</td>\n",
       "      <td>0.666667</td>\n",
       "      <td>0.344744</td>\n",
       "    </tr>\n",
       "    <tr>\n",
       "      <th>4</th>\n",
       "      <td>0.500000</td>\n",
       "      <td>0.0</td>\n",
       "      <td>0.543572</td>\n",
       "      <td>0.0</td>\n",
       "      <td>0.0</td>\n",
       "      <td>0.666667</td>\n",
       "      <td>0.060637</td>\n",
       "    </tr>\n",
       "    <tr>\n",
       "      <th>...</th>\n",
       "      <td>...</td>\n",
       "      <td>...</td>\n",
       "      <td>...</td>\n",
       "      <td>...</td>\n",
       "      <td>...</td>\n",
       "      <td>...</td>\n",
       "      <td>...</td>\n",
       "    </tr>\n",
       "    <tr>\n",
       "      <th>1333</th>\n",
       "      <td>0.781250</td>\n",
       "      <td>0.0</td>\n",
       "      <td>0.582910</td>\n",
       "      <td>0.6</td>\n",
       "      <td>0.0</td>\n",
       "      <td>0.666667</td>\n",
       "      <td>0.166230</td>\n",
       "    </tr>\n",
       "    <tr>\n",
       "      <th>1334</th>\n",
       "      <td>0.281250</td>\n",
       "      <td>1.0</td>\n",
       "      <td>0.600791</td>\n",
       "      <td>0.0</td>\n",
       "      <td>0.0</td>\n",
       "      <td>1.000000</td>\n",
       "      <td>0.034593</td>\n",
       "    </tr>\n",
       "    <tr>\n",
       "      <th>1335</th>\n",
       "      <td>0.281250</td>\n",
       "      <td>1.0</td>\n",
       "      <td>0.693582</td>\n",
       "      <td>0.0</td>\n",
       "      <td>0.0</td>\n",
       "      <td>0.333333</td>\n",
       "      <td>0.025558</td>\n",
       "    </tr>\n",
       "    <tr>\n",
       "      <th>1336</th>\n",
       "      <td>0.328125</td>\n",
       "      <td>1.0</td>\n",
       "      <td>0.485601</td>\n",
       "      <td>0.0</td>\n",
       "      <td>0.0</td>\n",
       "      <td>0.000000</td>\n",
       "      <td>0.031487</td>\n",
       "    </tr>\n",
       "    <tr>\n",
       "      <th>1337</th>\n",
       "      <td>0.953125</td>\n",
       "      <td>1.0</td>\n",
       "      <td>0.547149</td>\n",
       "      <td>0.0</td>\n",
       "      <td>1.0</td>\n",
       "      <td>0.666667</td>\n",
       "      <td>0.456973</td>\n",
       "    </tr>\n",
       "  </tbody>\n",
       "</table>\n",
       "<p>1335 rows × 7 columns</p>\n",
       "</div>"
      ],
      "text/plain": [
       "           age  sex       bmi  children  smoker    region   charges\n",
       "0     0.296875  1.0  0.525127       0.0     1.0  0.000000  0.264777\n",
       "1     0.281250  0.0  0.635611       0.2     0.0  0.333333  0.027059\n",
       "2     0.437500  0.0  0.621118       0.6     0.0  0.333333  0.069773\n",
       "3     0.515625  0.0  0.427348       0.0     0.0  0.666667  0.344744\n",
       "4     0.500000  0.0  0.543572       0.0     0.0  0.666667  0.060637\n",
       "...        ...  ...       ...       ...     ...       ...       ...\n",
       "1333  0.781250  0.0  0.582910       0.6     0.0  0.666667  0.166230\n",
       "1334  0.281250  1.0  0.600791       0.0     0.0  1.000000  0.034593\n",
       "1335  0.281250  1.0  0.693582       0.0     0.0  0.333333  0.025558\n",
       "1336  0.328125  1.0  0.485601       0.0     0.0  0.000000  0.031487\n",
       "1337  0.953125  1.0  0.547149       0.0     1.0  0.666667  0.456973\n",
       "\n",
       "[1335 rows x 7 columns]"
      ]
     },
     "execution_count": 16,
     "metadata": {},
     "output_type": "execute_result"
    }
   ],
   "source": [
    "df / df.max()\n"
   ]
  },
  {
   "cell_type": "markdown",
   "id": "a4f8c8e4-ea8e-4682-a22d-cb59b43cb239",
   "metadata": {},
   "source": [
    "# Q8"
   ]
  },
  {
   "cell_type": "code",
   "execution_count": 18,
   "id": "2d891bd2-717d-484f-a10d-19ea5a6e10b0",
   "metadata": {},
   "outputs": [],
   "source": [
    "from sklearn.model_selection import train_test_split\n",
    "\n",
    "# splite data \n",
    "X = df.drop('smoker', axis=1)     \n",
    "y = df['smoker']      \n",
    "\n",
    "X_train, X_test, y_train, y_test = train_test_split(X, y, test_size=0.2, random_state=42)\n",
    "\n",
    " "
   ]
  },
  {
   "cell_type": "markdown",
   "id": "767d1695-b733-4005-ab03-55fa9a4342b8",
   "metadata": {},
   "source": [
    "# Q10"
   ]
  },
  {
   "cell_type": "code",
   "execution_count": 22,
   "id": "c8d5181d-565f-4dea-9333-38b5b984a911",
   "metadata": {},
   "outputs": [
    {
     "name": "stdout",
     "output_type": "stream",
     "text": [
      " model accuracy: 0.951310861423221\n",
      "              precision    recall  f1-score   support\n",
      "\n",
      "           0       0.96      0.98      0.97       202\n",
      "           1       0.93      0.86      0.90        65\n",
      "\n",
      "    accuracy                           0.95       267\n",
      "   macro avg       0.94      0.92      0.93       267\n",
      "weighted avg       0.95      0.95      0.95       267\n",
      "\n"
     ]
    },
    {
     "name": "stderr",
     "output_type": "stream",
     "text": [
      "/opt/anaconda3/lib/python3.12/site-packages/sklearn/linear_model/_logistic.py:469: ConvergenceWarning: lbfgs failed to converge (status=1):\n",
      "STOP: TOTAL NO. of ITERATIONS REACHED LIMIT.\n",
      "\n",
      "Increase the number of iterations (max_iter) or scale the data as shown in:\n",
      "    https://scikit-learn.org/stable/modules/preprocessing.html\n",
      "Please also refer to the documentation for alternative solver options:\n",
      "    https://scikit-learn.org/stable/modules/linear_model.html#logistic-regression\n",
      "  n_iter_i = _check_optimize_result(\n"
     ]
    }
   ],
   "source": [
    "from sklearn.linear_model import LogisticRegression\n",
    "from sklearn.metrics import accuracy_score, confusion_matrix, classification_report\n",
    "\n",
    "#  build Model\n",
    "model = LogisticRegression()\n",
    "\n",
    "#  trining the Model \n",
    "model.fit(X_train, y_train)\n",
    "\n",
    "#   predactions   \n",
    "y_pred = model.predict(X_test)\n",
    "\n",
    "#  Evaluation the model \n",
    "accuracy = accuracy_score(y_test, y_pred)\n",
    "confusion = confusion_matrix(y_test, y_pred)\n",
    "report = classification_report(y_test, y_pred)\n",
    "\n",
    "print(f\" model accuracy: {accuracy}\")\n",
    "\n",
    "print(report)"
   ]
  },
  {
   "cell_type": "code",
   "execution_count": 23,
   "id": "413e4835-4495-4ed1-8357-0aeb4fb78f6c",
   "metadata": {},
   "outputs": [
    {
     "name": "stdout",
     "output_type": "stream",
     "text": [
      "Requirement already satisfied: imbalanced-learn in /opt/anaconda3/lib/python3.12/site-packages (0.12.3)\n",
      "Requirement already satisfied: numpy>=1.17.3 in /opt/anaconda3/lib/python3.12/site-packages (from imbalanced-learn) (1.26.4)\n",
      "Requirement already satisfied: scipy>=1.5.0 in /opt/anaconda3/lib/python3.12/site-packages (from imbalanced-learn) (1.13.1)\n",
      "Requirement already satisfied: scikit-learn>=1.0.2 in /opt/anaconda3/lib/python3.12/site-packages (from imbalanced-learn) (1.5.2)\n",
      "Requirement already satisfied: joblib>=1.1.1 in /opt/anaconda3/lib/python3.12/site-packages (from imbalanced-learn) (1.4.2)\n",
      "Requirement already satisfied: threadpoolctl>=2.0.0 in /opt/anaconda3/lib/python3.12/site-packages (from imbalanced-learn) (3.5.0)\n"
     ]
    }
   ],
   "source": [
    "!pip install imbalanced-learn\n"
   ]
  },
  {
   "cell_type": "code",
   "execution_count": 24,
   "id": "30ab41fc-d858-428e-ab65-391c27c5fbf7",
   "metadata": {},
   "outputs": [
    {
     "name": "stdout",
     "output_type": "stream",
     "text": [
      "Original class distribution: Counter({0: 1061, 1: 274})\n",
      "After oversampling: Counter({0: 1061, 1: 530})\n",
      "After undersampling: Counter({0: 530, 1: 530})\n"
     ]
    }
   ],
   "source": [
    "from imblearn.over_sampling import RandomOverSampler\n",
    "from imblearn.under_sampling import RandomUnderSampler\n",
    "from collections import Counter\n",
    "import pandas as pd\n",
    "\n",
    "# افترض أن لديك X و y (الميزات والأهداف)\n",
    "\n",
    "# 1. أولا، نتحقق من توزيع الفئات الأصلي\n",
    "print(\"Original class distribution:\", Counter(y))\n",
    "\n",
    "# 2. Oversampling الفئة الأقل تمثيلاً بنسبة 0.5\n",
    "oversampler = RandomOverSampler(sampling_strategy=0.5)  # هذه النسبة تعني أنك ستزيد الفئة الأقل تمثيلاً\n",
    "X_resampled, y_resampled = oversampler.fit_resample(X, y)\n",
    "\n",
    "# 3. تحقق من توزيع الفئات بعد oversampling\n",
    "print(\"After oversampling:\", Counter(y_resampled))\n",
    "\n",
    "# 4. Undersampling الفئة الأكثر تمثيلاً لتقليل عددها\n",
    "undersampler = RandomUnderSampler(sampling_strategy='auto')  # 'auto' سيجعل الفئات متساوية\n",
    "X_balanced, y_balanced = undersampler.fit_resample(X_resampled, y_resampled)\n",
    "\n",
    "# 5. تحقق من توزيع الفئات بعد undersampling\n",
    "print(\"After undersampling:\", Counter(y_balanced))\n",
    "\n",
    "# الآن لديك مجموعة بيانات متوازنة\n",
    "# يمكنك متابعة تدريب نموذجك باستخدام X_balanced و y_balanced"
   ]
  },
  {
   "cell_type": "code",
   "execution_count": 26,
   "id": "dc3625c1-be49-4967-b87b-4dee0cf85e64",
   "metadata": {},
   "outputs": [
    {
     "name": "stdout",
     "output_type": "stream",
     "text": [
      "Results after balancing the dataset:\n",
      "accuracy : 0.9775280898876404\n",
      " confusion_balanced:\n",
      "[[196   6]\n",
      " [  0  65]]\n",
      " report_balanced:\n",
      "              precision    recall  f1-score   support\n",
      "\n",
      "           0       1.00      0.97      0.98       202\n",
      "           1       0.92      1.00      0.96        65\n",
      "\n",
      "    accuracy                           0.98       267\n",
      "   macro avg       0.96      0.99      0.97       267\n",
      "weighted avg       0.98      0.98      0.98       267\n",
      "\n"
     ]
    },
    {
     "name": "stderr",
     "output_type": "stream",
     "text": [
      "/opt/anaconda3/lib/python3.12/site-packages/sklearn/linear_model/_logistic.py:469: ConvergenceWarning: lbfgs failed to converge (status=1):\n",
      "STOP: TOTAL NO. of ITERATIONS REACHED LIMIT.\n",
      "\n",
      "Increase the number of iterations (max_iter) or scale the data as shown in:\n",
      "    https://scikit-learn.org/stable/modules/preprocessing.html\n",
      "Please also refer to the documentation for alternative solver options:\n",
      "    https://scikit-learn.org/stable/modules/linear_model.html#logistic-regression\n",
      "  n_iter_i = _check_optimize_result(\n"
     ]
    }
   ],
   "source": [
    "from sklearn.linear_model import LogisticRegression\n",
    "from sklearn.metrics import accuracy_score, confusion_matrix, classification_report\n",
    "\n",
    "# 1. Bulid the Model with the balnced data \n",
    "model_balanced = LogisticRegression()\n",
    "model_balanced.fit(X_balanced, y_balanced)\n",
    "\n",
    "# 2.      Predict balanced data \n",
    "y_pred_balanced = model_balanced.predict(X_test)\n",
    "\n",
    "# 3. evaluate the model  \n",
    "accuracy_balanced = accuracy_score(y_test, y_pred_balanced)\n",
    "confusion_balanced = confusion_matrix(y_test, y_pred_balanced)\n",
    "report_balanced = classification_report(y_test, y_pred_balanced)\n",
    "\n",
    "# 4.  \n",
    "print(\"Results after balancing the dataset:\")\n",
    "print(f\"accuracy : {accuracy_balanced}\")\n",
    "print(\" confusion_balanced:\")\n",
    "print(confusion_balanced)\n",
    "print(\" report_balanced:\")\n",
    "print(report_balanced)\n"
   ]
  },
  {
   "cell_type": "code",
   "execution_count": null,
   "id": "b8eb7ca8-218c-4805-865f-bd35bd76a0e5",
   "metadata": {},
   "outputs": [],
   "source": []
  }
 ],
 "metadata": {
  "kernelspec": {
   "display_name": "Python 3 (ipykernel)",
   "language": "python",
   "name": "python3"
  },
  "language_info": {
   "codemirror_mode": {
    "name": "ipython",
    "version": 3
   },
   "file_extension": ".py",
   "mimetype": "text/x-python",
   "name": "python",
   "nbconvert_exporter": "python",
   "pygments_lexer": "ipython3",
   "version": "3.12.4"
  }
 },
 "nbformat": 4,
 "nbformat_minor": 5
}
