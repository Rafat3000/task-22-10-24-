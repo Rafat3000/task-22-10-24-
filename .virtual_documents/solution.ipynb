


#Libraries
import numpy as np
import pandas as pd
import matplotlib.pyplot as plt
from sklearn.linear_model import LinearRegression
from sklearn.model_selection import train_test_split
 


df=pd.read_csv('insurance.csv')
df.head()


# Q1
df.info()


# Q1
df.shape


#Q1
df.describe()



# Q2
df['smoker'].value_counts()






#    check the data for smokers 
smokers = df[df['smoker'] == "yes"]

# check the data for nun_smokers
non_smokers = df[df['smoker'] == "no"]

# count total in each
num_smokers = len(smokers)
num_non_smokers = len(non_smokers)

print(f" total smokers: {num_smokers}")
print(f"  total nun_smokers: {num_non_smokers}")



numerical_features = ['charges', 'bmi', 'age', 'children']

subplot_number = 421
fig = plt.figure(figsize=(10,15))

for f in numerical_features:

  ax = fig.add_subplot(subplot_number)
  subplot_number += 1
  ax.hist(smokers[f])
  ax.set_title('Distribution of ' + f + ' for smokers')

  ax = fig.add_subplot(subplot_number)
  subplot_number += 1
  ax.hist(non_smokers[f])
  ax.set_title('Distribution of '+ f + ' for non-smokers')






df['sex'].value_counts()









df.isnull().sum()





df=df.dropna()





#  convert column "sex" to 0&1
df['sex'] = df['sex'].replace({'male': 0, 'female': 1})

#  convert column "smoker" to 0 & 1
df['smoker'] = df['smoker'].replace({'no': 0, 'yes': 1})

# check the head
df.head()



# using encoding 
from sklearn.preprocessing import LabelEncoder
# LabelEncoder
label_encoder = LabelEncoder()

#  convert  "sex" columns 
df['sex'] = label_encoder.fit_transform(df['sex'])

# convert "smoker" columns
df['smoker'] = label_encoder.fit_transform(df['smoker'])

# check 
print(df.head())


 
regions = {'southwest': 0, 'southeast': 1, 'northwest': 2, 'northeast': 3}

#   replace "region" in regions  
df['region'] = df['region'].replace(regions)

# check 
print(df.head())





df.max()


df / df.max()






from sklearn.model_selection import train_test_split

# splite data 
X = df.drop('smoker', axis=1)     
y = df['smoker']      

X_train, X_test, y_train, y_test = train_test_split(X, y, test_size=0.2, random_state=42)

 





from sklearn.linear_model import LogisticRegression
from sklearn.metrics import accuracy_score, confusion_matrix, classification_report

#  build Model
model = LogisticRegression()

#  trining the Model 
model.fit(X_train, y_train)

#   predactions   
y_pred = model.predict(X_test)

#  Evaluation the model 
accuracy = accuracy_score(y_test, y_pred)
confusion = confusion_matrix(y_test, y_pred)
report = classification_report(y_test, y_pred)

print(f" model accuracy: {accuracy}")

print(report)


!pip install imbalanced-learn



from imblearn.over_sampling import RandomOverSampler
from imblearn.under_sampling import RandomUnderSampler
from collections import Counter
import pandas as pd

# افترض أن لديك X و y (الميزات والأهداف)

# 1. أولا، نتحقق من توزيع الفئات الأصلي
print("Original class distribution:", Counter(y))

# 2. Oversampling الفئة الأقل تمثيلاً بنسبة 0.5
oversampler = RandomOverSampler(sampling_strategy=0.5)  # هذه النسبة تعني أنك ستزيد الفئة الأقل تمثيلاً
X_resampled, y_resampled = oversampler.fit_resample(X, y)

# 3. تحقق من توزيع الفئات بعد oversampling
print("After oversampling:", Counter(y_resampled))

# 4. Undersampling الفئة الأكثر تمثيلاً لتقليل عددها
undersampler = RandomUnderSampler(sampling_strategy='auto')  # 'auto' سيجعل الفئات متساوية
X_balanced, y_balanced = undersampler.fit_resample(X_resampled, y_resampled)

# 5. تحقق من توزيع الفئات بعد undersampling
print("After undersampling:", Counter(y_balanced))

# الآن لديك مجموعة بيانات متوازنة
# يمكنك متابعة تدريب نموذجك باستخدام X_balanced و y_balanced


from sklearn.linear_model import LogisticRegression
from sklearn.metrics import accuracy_score, confusion_matrix, classification_report

# 1. Bulid the Model with the balnced data 
model_balanced = LogisticRegression()
model_balanced.fit(X_balanced, y_balanced)

# 2.      Predict balanced data 
y_pred_balanced = model_balanced.predict(X_test)

# 3. evaluate the model  
accuracy_balanced = accuracy_score(y_test, y_pred_balanced)
confusion_balanced = confusion_matrix(y_test, y_pred_balanced)
report_balanced = classification_report(y_test, y_pred_balanced)

# 4.  
print("Results after balancing the dataset:")
print(f"accuracy : {accuracy_balanced}")
print(" confusion_balanced:")
print(confusion_balanced)
print(" report_balanced:")
print(report_balanced)




