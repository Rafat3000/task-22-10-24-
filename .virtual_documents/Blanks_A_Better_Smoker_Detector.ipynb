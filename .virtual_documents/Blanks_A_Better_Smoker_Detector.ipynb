











import numpy as np
import pandas as pd
import matplotlib.pyplot as plt
from sklearn.linear_model import LinearRegression
from sklearn.model_selection import train_test_split





df=pd.read_csv('insurance.csv')
df.head()








(1338, 7)





<class 'pandas.core.frame.DataFrame'>
RangeIndex: 1338 entries, 0 to 1337
Data columns (total 7 columns):
 #   Column    Non-Null Count  Dtype  
---  ------    --------------  -----  
 0   age       1338 non-null   int64  
 1   sex       1338 non-null   object 
 2   bmi       1335 non-null   float64
 3   children  1338 non-null   int64  
 4   smoker    1338 non-null   object 
 5   region    1338 non-null   object 
 6   charges   1338 non-null   float64
dtypes: float64(2), int64(2), object(3)
memory usage: 73.3+ KB





	age	bmi	children	charges
count	1338.000000	1335.000000	1338.000000	1338.000000
mean	39.207025	30.661423	1.094918	13270.422265
std	14.049960	6.101038	1.205493	12110.011237
min	18.000000	15.960000	0.000000	1121.873900
25%	27.000000	26.302500	0.000000	4740.287150
50%	39.000000	30.400000	1.000000	9382.033000
75%	51.000000	34.687500	2.000000	16639.912515
max	64.000000	53.130000	5.000000	63770.428010









smoker
no     1064
yes     274
Name: count, dtype: int64














numerical_features = ['charges', 'bmi', 'age', 'children']

subplot_number = 421
fig = plt.figure(figsize=(10,15))

for f in numerical_features:

  ax = fig.add_subplot(subplot_number)
  subplot_number += 1
  ax.hist(smokers[f])
  ax.set_title('Distribution of ' + f + ' for smokers')

  ax = fig.add_subplot(subplot_number)
  subplot_number += 1
  ax.hist(non_smokers[f])
  ax.set_title('Distribution of '+ f + ' for non-smokers')


























# print how many missing value in each column






# drop rows with missing values









# define dictionary


# replace sex column with 0/1



# print head to verify
data.head()





# define dictionary
smokers = {'no':0, 'yes':1}
# replace smokers column with 0/1

# print head to verify






# define dictionary
regions = {'southwest':0, 'southeast':1, 'northwest':2, 'northeast':3}

# replace region column with the corresponding values


# print head to verify







# get the max of each column




# divide each column by its maximum value
















from sklearn.linear_model import LogisticRegression
from sklearn.metrics import accuracy_score, confusion_matrix, classification_report

#  build Model
model = LogisticRegression()

#  trining the Model 
model.fit(X_train, y_train)

#   predactions   
y_pred = model.predict(X_test)

#  Evaluation the model 
accuracy = accuracy_score(y_test, y_pred)
confusion = confusion_matrix(y_test, y_pred)
report = classification_report(y_test, y_pred)

print(f" model accuracy: {accuracy}")

print(report)























data['smoker'].hist()


















