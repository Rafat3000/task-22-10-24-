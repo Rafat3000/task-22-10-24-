{
 "cells": [
  {
   "cell_type": "markdown",
   "metadata": {
    "id": "SKzBo_NmCSMR"
   },
   "source": [
    "\n",
    "## Case Study: A better Smoker Detector\n",
    "\n",
    "**Objective:**\n",
    "\n",
    "In this notebook, you will work on the insurance csv file. Your goal is not only to make a prediction, it is to make a prediction with the best possible way. So you will be building, evaluating, and improving your model.\n",
    "\n",
    "\n",
    "## Dataset Description\n",
    "\n",
    "\n",
    "*   **age**: age of primary beneficiary\n",
    "*   **sex**: insurance contractor gender, female, male\n",
    "*   **bmi**: Body mass index, providing an understanding of body, weights that are relatively high or low relative to height,\n",
    "objective index of body weight (kg / m ^ 2) using the ratio of height to weight, ideally 18.5 to 24.9\n",
    "*   **children**: Number of children covered by health insurance / Number of dependents\n",
    "*   **smoker**: Smoking\n",
    "*   **region**: the beneficiary's residential area in the US, northeast, southeast, southwest, northwest.\n",
    "*   **charges**: Individual medical costs billed by health insurance"
   ]
  },
  {
   "cell_type": "markdown",
   "metadata": {
    "id": "lW2QzRbXR5Ph"
   },
   "source": [
    "Our problem would be to predict if a person is smoker or not based on all the other features in the dataset."
   ]
  },
  {
   "cell_type": "markdown",
   "metadata": {
    "id": "5k7QqVknG5ya"
   },
   "source": [
    "## 1. Data Loading"
   ]
  },
  {
   "cell_type": "markdown",
   "metadata": {
    "id": "GfyJQMOnE_48"
   },
   "source": [
    "#### Import necessary python modules\n",
    "\n",
    "We will need the following libraries:\n",
    " - Numpy — for scientific computing (e.g., linear algebra (vectors & matrices)).\n",
    " - Pandas — providing high-performance, easy-to-use data reading, manipulation, and analysis.\n",
    " - Matplotlib — plotting & visualization.\n",
    " - scikit-learn — a tool for data mining and machine learning models."
   ]
  },
  {
   "cell_type": "code",
   "execution_count": null,
   "metadata": {
    "id": "u9nnDKPjAfGq"
   },
   "outputs": [],
   "source": [
    "import numpy as np\n",
    "import pandas as pd\n",
    "import matplotlib.pyplot as plt\n",
    "from sklearn.linear_model import LinearRegression\n",
    "from sklearn.model_selection import train_test_split"
   ]
  },
  {
   "cell_type": "markdown",
   "metadata": {
    "id": "4LEivAvUHIE3"
   },
   "source": [
    "#### Read & visualize data\n",
    "Let's load the **insurance.csv** dataset to our code, using **pandas** module, more specifically, the **read_csv** function."
   ]
  },
  {
   "cell_type": "code",
   "execution_count": null,
   "metadata": {
    "id": "_hep8239AzVU"
   },
   "outputs": [],
   "source": [
    "df=pd.read_csv('insurance.csv')\n",
    "df.head()"
   ]
  },
  {
   "cell_type": "markdown",
   "metadata": {
    "id": "qgIxvmAKhiqe"
   },
   "source": [
    "## 2. Exploratory Data Analysis\n",
    "\n",
    "Let's dig deeper & understand our data"
   ]
  },
  {
   "cell_type": "markdown",
   "metadata": {
    "id": "LbXDTkiQhzwq"
   },
   "source": [
    "**Question 1:** how many rows & columns in our dataset"
   ]
  },
  {
   "cell_type": "code",
   "execution_count": null,
   "metadata": {
    "id": "nUf0K_SMh1og"
   },
   "outputs": [],
   "source": [
    "(1338, 7)"
   ]
  },
  {
   "cell_type": "markdown",
   "metadata": {
    "id": "rPqsS9S2B2M4"
   },
   "source": [
    "Using the function **info()**, we can check:\n",
    " - data types (int, float, or object (e.g., string))\n",
    " - missing values\n",
    " - memory usage\n",
    " - number of rows and columns"
   ]
  },
  {
   "cell_type": "code",
   "execution_count": 2,
   "metadata": {
    "id": "exWsHvXSA7nz"
   },
   "outputs": [
    {
     "ename": "SyntaxError",
     "evalue": "invalid syntax (3940874627.py, line 1)",
     "output_type": "error",
     "traceback": [
      "\u001b[0;36m  Cell \u001b[0;32mIn[2], line 1\u001b[0;36m\u001b[0m\n\u001b[0;31m    <class 'pandas.core.frame.DataFrame'>\u001b[0m\n\u001b[0m    ^\u001b[0m\n\u001b[0;31mSyntaxError\u001b[0m\u001b[0;31m:\u001b[0m invalid syntax\n"
     ]
    }
   ],
   "source": [
    "<class 'pandas.core.frame.DataFrame'>\n",
    "RangeIndex: 1338 entries, 0 to 1337\n",
    "Data columns (total 7 columns):\n",
    " #   Column    Non-Null Count  Dtype  \n",
    "---  ------    --------------  -----  \n",
    " 0   age       1338 non-null   int64  \n",
    " 1   sex       1338 non-null   object \n",
    " 2   bmi       1335 non-null   float64\n",
    " 3   children  1338 non-null   int64  \n",
    " 4   smoker    1338 non-null   object \n",
    " 5   region    1338 non-null   object \n",
    " 6   charges   1338 non-null   float64\n",
    "dtypes: float64(2), int64(2), object(3)\n",
    "memory usage: 73.3+ KB"
   ]
  },
  {
   "cell_type": "markdown",
   "metadata": {
    "id": "Kt2KsZa2B63T"
   },
   "source": [
    "Using the function **describe()**, we can check the mean, standard deviation, maximum, and minimum of each numerical feature (column)"
   ]
  },
  {
   "cell_type": "code",
   "execution_count": 3,
   "metadata": {
    "id": "pifR8QwkA-DW"
   },
   "outputs": [
    {
     "ename": "SyntaxError",
     "evalue": "invalid syntax (3886106364.py, line 1)",
     "output_type": "error",
     "traceback": [
      "\u001b[0;36m  Cell \u001b[0;32mIn[3], line 1\u001b[0;36m\u001b[0m\n\u001b[0;31m    age\tbmi\tchildren\tcharges\u001b[0m\n\u001b[0m       \t^\u001b[0m\n\u001b[0;31mSyntaxError\u001b[0m\u001b[0;31m:\u001b[0m invalid syntax\n"
     ]
    }
   ],
   "source": [
    "\tage\tbmi\tchildren\tcharges\n",
    "count\t1338.000000\t1335.000000\t1338.000000\t1338.000000\n",
    "mean\t39.207025\t30.661423\t1.094918\t13270.422265\n",
    "std\t14.049960\t6.101038\t1.205493\t12110.011237\n",
    "min\t18.000000\t15.960000\t0.000000\t1121.873900\n",
    "25%\t27.000000\t26.302500\t0.000000\t4740.287150\n",
    "50%\t39.000000\t30.400000\t1.000000\t9382.033000\n",
    "75%\t51.000000\t34.687500\t2.000000\t16639.912515\n",
    "max\t64.000000\t53.130000\t5.000000\t63770.428010\n"
   ]
  },
  {
   "cell_type": "markdown",
   "metadata": {
    "id": "-C6DoqLJkZaJ"
   },
   "source": [
    "#### Data Imbalance Checking\n",
    "\n",
    "First, let's see how many smokers vs non-smokers we have."
   ]
  },
  {
   "cell_type": "markdown",
   "metadata": {
    "id": "nJZ1MmceijJr"
   },
   "source": [
    "**Question 2:** Select the instances where the data.smoker == \"yes\" and the ones where the data.smoker == \"no\". Save them in smokers and non_smokers dataframes respectively. Then count how many you have in each category."
   ]
  },
  {
   "cell_type": "code",
   "execution_count": null,
   "metadata": {
    "id": "2bYxq0B4m4eg"
   },
   "outputs": [],
   "source": [
    "smoker\n",
    "no     1064\n",
    "yes     274\n",
    "Name: count, dtype: int64"
   ]
  },
  {
   "cell_type": "markdown",
   "metadata": {
    "id": "ZndHFJ-9i9h8"
   },
   "source": [
    "**Question 3:** Is your data balanced?"
   ]
  },
  {
   "cell_type": "markdown",
   "metadata": {
    "id": "Bajf4fhFleUX"
   },
   "source": [
    "no "
   ]
  },
  {
   "cell_type": "markdown",
   "metadata": {
    "id": "knOEySxYaOwJ"
   },
   "source": [
    "###Exploratory Data Analysis"
   ]
  },
  {
   "cell_type": "markdown",
   "metadata": {
    "id": "yzGzI6TbaSbB"
   },
   "source": [
    "Let's start by seeing how much each feature tells us about a person being  a smoker or not."
   ]
  },
  {
   "cell_type": "code",
   "execution_count": 1,
   "metadata": {
    "id": "albiV9oTXWye"
   },
   "outputs": [
    {
     "ename": "NameError",
     "evalue": "name 'plt' is not defined",
     "output_type": "error",
     "traceback": [
      "\u001b[0;31m---------------------------------------------------------------------------\u001b[0m",
      "\u001b[0;31mNameError\u001b[0m                                 Traceback (most recent call last)",
      "Cell \u001b[0;32mIn[1], line 4\u001b[0m\n\u001b[1;32m      1\u001b[0m numerical_features \u001b[38;5;241m=\u001b[39m [\u001b[38;5;124m'\u001b[39m\u001b[38;5;124mcharges\u001b[39m\u001b[38;5;124m'\u001b[39m, \u001b[38;5;124m'\u001b[39m\u001b[38;5;124mbmi\u001b[39m\u001b[38;5;124m'\u001b[39m, \u001b[38;5;124m'\u001b[39m\u001b[38;5;124mage\u001b[39m\u001b[38;5;124m'\u001b[39m, \u001b[38;5;124m'\u001b[39m\u001b[38;5;124mchildren\u001b[39m\u001b[38;5;124m'\u001b[39m]\n\u001b[1;32m      3\u001b[0m subplot_number \u001b[38;5;241m=\u001b[39m \u001b[38;5;241m421\u001b[39m\n\u001b[0;32m----> 4\u001b[0m fig \u001b[38;5;241m=\u001b[39m plt\u001b[38;5;241m.\u001b[39mfigure(figsize\u001b[38;5;241m=\u001b[39m(\u001b[38;5;241m10\u001b[39m,\u001b[38;5;241m15\u001b[39m))\n\u001b[1;32m      6\u001b[0m \u001b[38;5;28;01mfor\u001b[39;00m f \u001b[38;5;129;01min\u001b[39;00m numerical_features:\n\u001b[1;32m      8\u001b[0m   ax \u001b[38;5;241m=\u001b[39m fig\u001b[38;5;241m.\u001b[39madd_subplot(subplot_number)\n",
      "\u001b[0;31mNameError\u001b[0m: name 'plt' is not defined"
     ]
    }
   ],
   "source": [
    "numerical_features = ['charges', 'bmi', 'age', 'children']\n",
    "\n",
    "subplot_number = 421\n",
    "fig = plt.figure(figsize=(10,15))\n",
    "\n",
    "for f in numerical_features:\n",
    "\n",
    "  ax = fig.add_subplot(subplot_number)\n",
    "  subplot_number += 1\n",
    "  ax.hist(smokers[f])\n",
    "  ax.set_title('Distribution of ' + f + ' for smokers')\n",
    "\n",
    "  ax = fig.add_subplot(subplot_number)\n",
    "  subplot_number += 1\n",
    "  ax.hist(non_smokers[f])\n",
    "  ax.set_title('Distribution of '+ f + ' for non-smokers')"
   ]
  },
  {
   "cell_type": "markdown",
   "metadata": {
    "id": "OhSE6xoKjKd_"
   },
   "source": [
    "**Question 4:** From the above histograms, deduce which feature tells us the most about a person being smoker or not?"
   ]
  },
  {
   "cell_type": "markdown",
   "metadata": {
    "id": "YWa8eagVZwLg"
   },
   "source": []
  },
  {
   "cell_type": "markdown",
   "metadata": {
    "id": "5gjS7Ss5aji3"
   },
   "source": [
    "Now let's see if the gender influences being a smoker or not."
   ]
  },
  {
   "cell_type": "code",
   "execution_count": null,
   "metadata": {
    "id": "defv0Lx4aqDy"
   },
   "outputs": [],
   "source": []
  },
  {
   "cell_type": "markdown",
   "metadata": {
    "id": "5s6hxMFhjWU4"
   },
   "source": [
    "**Question 5:** What can you conclude about the gender and the smoker status?"
   ]
  },
  {
   "cell_type": "markdown",
   "metadata": {
    "id": "PELhantCbEGV"
   },
   "source": []
  },
  {
   "cell_type": "markdown",
   "metadata": {
    "id": "g3X3fDBXnX16"
   },
   "source": [
    "## 3. Data Preprocessing\n",
    "\"Garbage in, garbage out\".\n",
    "\n",
    "Data should be preprocessed and cleaned to get rid of noisy data.\n",
    "Preprocessing includes:\n",
    " - dealing with missing data\n",
    "   - remove whole rows (if they are not a lot)\n",
    "   - infer (e.g., date of birth & age)\n",
    "   - fill with mean, median, or even 0\n",
    " - removing unsued column(s)\n",
    " - convert categorical (non numerical) data into numerical\n",
    " - normalization: standarize data ranges for all features (e.g., between 0 and 1)\n",
    "\n",
    "\n",
    "\n",
    "---\n",
    "\n",
    "\n",
    "\n",
    " Let's start by removing missing data."
   ]
  },
  {
   "cell_type": "markdown",
   "metadata": {
    "id": "V3nt2oUpjh70"
   },
   "source": [
    "**Question 6:** How many missing value are there in each column?"
   ]
  },
  {
   "cell_type": "code",
   "execution_count": null,
   "metadata": {
    "id": "mslOEw7wmf_N"
   },
   "outputs": [],
   "source": [
    "# print how many missing value in each column\n"
   ]
  },
  {
   "cell_type": "markdown",
   "metadata": {
    "id": "4o1QZfHwjpmG"
   },
   "source": [
    "Let's drop rows with missing values"
   ]
  },
  {
   "cell_type": "code",
   "execution_count": null,
   "metadata": {
    "id": "ZXvduiy1nckz"
   },
   "outputs": [],
   "source": [
    "# drop rows with missing values\n"
   ]
  },
  {
   "cell_type": "markdown",
   "metadata": {
    "id": "VGcXlEP6ryIZ"
   },
   "source": [
    "#### Convert Categorical columns to numerical\n",
    "\n",
    "*   We need to convert the sex column from male/female to 0/1.\n",
    "*   We need to convert the smoker column from no/yes to 0/1.\n",
    "\n",
    "\n",
    "Let's start with the sex column\n",
    "\n"
   ]
  },
  {
   "cell_type": "markdown",
   "metadata": {
    "id": "b-hWWzyNjx8B"
   },
   "source": [
    "**Question 7:**\n",
    "\n",
    "\n",
    "*   Replace male and female with 0 and 1\n",
    "*   Replace smoker and non smoker represented by yes and no in the dataframe with 0 and 1\n",
    "\n"
   ]
  },
  {
   "cell_type": "code",
   "execution_count": null,
   "metadata": {
    "id": "cpEbrz7HnfuY"
   },
   "outputs": [],
   "source": [
    "# define dictionary\n",
    "\n",
    "\n",
    "# replace sex column with 0/1\n",
    "\n",
    "\n",
    "\n",
    "# print head to verify\n",
    "data.head()"
   ]
  },
  {
   "cell_type": "markdown",
   "metadata": {
    "id": "AuX-fpHesgmi"
   },
   "source": [
    "And now the smokers column"
   ]
  },
  {
   "cell_type": "code",
   "execution_count": null,
   "metadata": {
    "id": "LfU8gCe7sCDS"
   },
   "outputs": [],
   "source": [
    "# define dictionary\n",
    "smokers = {'no':0, 'yes':1}\n",
    "# replace smokers column with 0/1\n",
    "\n",
    "# print head to verify\n"
   ]
  },
  {
   "cell_type": "markdown",
   "metadata": {
    "id": "7ovM89R-eYCi"
   },
   "source": [
    "And now the Region Column"
   ]
  },
  {
   "cell_type": "code",
   "execution_count": null,
   "metadata": {
    "id": "Ug0gruFnebxI"
   },
   "outputs": [],
   "source": [
    "# define dictionary\n",
    "regions = {'southwest':0, 'southeast':1, 'northwest':2, 'northeast':3}\n",
    "\n",
    "# replace region column with the corresponding values\n",
    "\n",
    "\n",
    "# print head to verify\n",
    "\n"
   ]
  },
  {
   "cell_type": "markdown",
   "metadata": {
    "id": "uwfqKXYftiS-"
   },
   "source": [
    "#### Normalization\n",
    "\n",
    "**Question 8:** Let's scale all the columns by dividing by the maximum"
   ]
  },
  {
   "cell_type": "code",
   "execution_count": null,
   "metadata": {
    "id": "hJrBAhytsq8c"
   },
   "outputs": [],
   "source": [
    "# get the max of each column\n",
    "\n"
   ]
  },
  {
   "cell_type": "code",
   "execution_count": null,
   "metadata": {
    "id": "oOxtgIjhu36f"
   },
   "outputs": [],
   "source": [
    "# divide each column by its maximum value\n",
    "\n"
   ]
  },
  {
   "cell_type": "markdown",
   "metadata": {
    "id": "nwQPUuGy8vmw"
   },
   "source": [
    "## 4. Model Training & Testing\n",
    "\n"
   ]
  },
  {
   "cell_type": "markdown",
   "metadata": {
    "id": "LTNYhHSpHezL"
   },
   "source": [
    "#### Data splits\n",
    "\n",
    "**Question 9:** Before training, we need to split data into training (80%) & testing (20%)"
   ]
  },
  {
   "cell_type": "code",
   "execution_count": null,
   "metadata": {
    "id": "5n3DqBUG892K"
   },
   "outputs": [],
   "source": []
  },
  {
   "cell_type": "markdown",
   "metadata": {
    "id": "7dPqqZiT97Eg"
   },
   "source": [
    "#### Logistic Regression Modeling\n"
   ]
  },
  {
   "cell_type": "code",
   "execution_count": null,
   "metadata": {
    "id": "CYUD8wNF9bm3"
   },
   "outputs": [],
   "source": [
    "from sklearn.linear_model import LogisticRegression\n",
    "from sklearn.metrics import accuracy_score, confusion_matrix, classification_report\n",
    "\n",
    "#  build Model\n",
    "model = LogisticRegression()\n",
    "\n",
    "#  trining the Model \n",
    "model.fit(X_train, y_train)\n",
    "\n",
    "#   predactions   \n",
    "y_pred = model.predict(X_test)\n",
    "\n",
    "#  Evaluation the model \n",
    "accuracy = accuracy_score(y_test, y_pred)\n",
    "confusion = confusion_matrix(y_test, y_pred)\n",
    "report = classification_report(y_test, y_pred)\n",
    "\n",
    "print(f\" model accuracy: {accuracy}\")\n",
    "\n",
    "print(report)"
   ]
  },
  {
   "cell_type": "markdown",
   "metadata": {
    "id": "8KIBXHUKHijy"
   },
   "source": [
    "#### Evaluation"
   ]
  },
  {
   "cell_type": "code",
   "execution_count": null,
   "metadata": {
    "id": "jEhqbtbCHmg8"
   },
   "outputs": [],
   "source": []
  },
  {
   "cell_type": "markdown",
   "metadata": {
    "id": "HTuXCuF4kJKX"
   },
   "source": [
    "We can see that the recall, and the f1 score can be improved."
   ]
  },
  {
   "cell_type": "markdown",
   "metadata": {
    "id": "a-H44ncekdNv"
   },
   "source": [
    "**Question 10:** What can you do to improve results?"
   ]
  },
  {
   "cell_type": "markdown",
   "metadata": {
    "id": "GvDITkSAj1GI"
   },
   "source": [
    "##5. Model Improvement"
   ]
  },
  {
   "cell_type": "markdown",
   "metadata": {
    "id": "kEQegNwxkE4t"
   },
   "source": [
    "Now we will try to improve the model that we built."
   ]
  },
  {
   "cell_type": "markdown",
   "metadata": {
    "id": "muAmLM-Hmpv0"
   },
   "source": [
    "####Handle data Imbalance"
   ]
  },
  {
   "cell_type": "code",
   "execution_count": null,
   "metadata": {
    "id": "1KMyylha2Y-g"
   },
   "outputs": [],
   "source": [
    "data['smoker'].hist()"
   ]
  },
  {
   "cell_type": "markdown",
   "metadata": {
    "id": "9MzV8OJ5m03J"
   },
   "source": [
    "We can see that we have a clearly imbalanced dataset. To handle it, we choose to do 2 steps:\n",
    "* Oversampling the minority class with a factor of 0.5\n",
    "* Undersampling the majority class to obtain the same number in the 2 classes\n",
    "<br>\n",
    "We do that by using the RandomOverSaampler and RandomUnderSampler from the imblearn library."
   ]
  },
  {
   "cell_type": "code",
   "execution_count": null,
   "metadata": {
    "id": "9-ZRF4gMnjuf"
   },
   "outputs": [],
   "source": []
  },
  {
   "cell_type": "code",
   "execution_count": null,
   "metadata": {
    "id": "WjVUHgi_ou-g"
   },
   "outputs": [],
   "source": []
  },
  {
   "cell_type": "code",
   "execution_count": null,
   "metadata": {
    "id": "Z_z-8P_io7GK"
   },
   "outputs": [],
   "source": []
  },
  {
   "cell_type": "code",
   "execution_count": null,
   "metadata": {
    "id": "q6pV29t-pcFm"
   },
   "outputs": [],
   "source": []
  },
  {
   "cell_type": "markdown",
   "metadata": {
    "id": "yDP6PNQUtzJZ"
   },
   "source": [
    "We can see how much our scores got better when we balanced our dataset."
   ]
  }
 ],
 "metadata": {
  "colab": {
   "provenance": []
  },
  "kernelspec": {
   "display_name": "Python 3 (ipykernel)",
   "language": "python",
   "name": "python3"
  },
  "language_info": {
   "codemirror_mode": {
    "name": "ipython",
    "version": 3
   },
   "file_extension": ".py",
   "mimetype": "text/x-python",
   "name": "python",
   "nbconvert_exporter": "python",
   "pygments_lexer": "ipython3",
   "version": "3.12.4"
  }
 },
 "nbformat": 4,
 "nbformat_minor": 4
}
